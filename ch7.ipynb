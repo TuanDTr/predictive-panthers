{
 "cells": [
  {
   "cell_type": "code",
   "execution_count": 1,
   "id": "88d13582-8b71-4f3a-9c6a-707a7c3f346c",
   "metadata": {
    "tags": []
   },
   "outputs": [
    {
     "name": "stdout",
     "output_type": "stream",
     "text": [
      "/var/tmp/tmpml33ds12\n"
     ]
    }
   ],
   "source": [
    "import os \n",
    "import tempfile\n",
    "root_dir = tempfile.mkdtemp()\n",
    "print(root_dir)\n",
    "data_root_dir = os.path.join(root_dir, \"data\")\n",
    "os.makedirs(data_root_dir)"
   ]
  },
  {
   "cell_type": "code",
   "execution_count": 2,
   "id": "c83bfce5-de26-4db2-a398-12119d390ab9",
   "metadata": {
    "tags": []
   },
   "outputs": [
    {
     "name": "stdout",
     "output_type": "stream",
     "text": [
      "Requirement already satisfied: nibabel in /opt/conda/envs/pytorch/lib/python3.10/site-packages (5.3.2)\n",
      "Requirement already satisfied: importlib-resources>=5.12 in /opt/conda/envs/pytorch/lib/python3.10/site-packages (from nibabel) (6.4.5)\n",
      "Requirement already satisfied: numpy>=1.22 in /opt/conda/envs/pytorch/lib/python3.10/site-packages (from nibabel) (1.26.4)\n",
      "Requirement already satisfied: packaging>=20 in /opt/conda/envs/pytorch/lib/python3.10/site-packages (from nibabel) (24.1)\n",
      "Requirement already satisfied: typing-extensions>=4.6 in /opt/conda/envs/pytorch/lib/python3.10/site-packages (from nibabel) (4.12.2)\n"
     ]
    }
   ],
   "source": [
    "!pip install nibabel"
   ]
  },
  {
   "cell_type": "code",
   "execution_count": 3,
   "id": "5937ff58-72a6-465e-beec-007f980f16e6",
   "metadata": {
    "tags": []
   },
   "outputs": [
    {
     "name": "stdout",
     "output_type": "stream",
     "text": [
      "Copying gs://marketplace-2xim6sjc/Med Decathlon Prostate/151/artifactFiles/imagesTs/prostate_03.nii.gz...\n",
      "Copying gs://marketplace-2xim6sjc/Med Decathlon Prostate/151/artifactFiles/imagesTs/prostate_05.nii.gz...\n",
      "Copying gs://marketplace-2xim6sjc/Med Decathlon Prostate/151/artifactFiles/imagesTs/prostate_08.nii.gz...\n",
      "Copying gs://marketplace-2xim6sjc/Med Decathlon Prostate/151/artifactFiles/imagesTs/prostate_09.nii.gz...\n",
      "Copying gs://marketplace-2xim6sjc/Med Decathlon Prostate/151/artifactFiles/imagesTs/prostate_11.nii.gz...\n",
      "Copying gs://marketplace-2xim6sjc/Med Decathlon Prostate/151/artifactFiles/imagesTs/prostate_12.nii.gz...\n",
      "Copying gs://marketplace-2xim6sjc/Med Decathlon Prostate/151/artifactFiles/imagesTs/prostate_15.nii.gz...\n",
      "Copying gs://marketplace-2xim6sjc/Med Decathlon Prostate/151/artifactFiles/imagesTs/prostate_19.nii.gz...\n",
      "Copying gs://marketplace-2xim6sjc/Med Decathlon Prostate/151/artifactFiles/imagesTs/prostate_22.nii.gz...\n",
      "Copying gs://marketplace-2xim6sjc/Med Decathlon Prostate/151/artifactFiles/imagesTs/prostate_26.nii.gz...\n",
      "Copying gs://marketplace-2xim6sjc/Med Decathlon Prostate/151/artifactFiles/imagesTs/prostate_23.nii.gz...\n",
      "Copying gs://marketplace-2xim6sjc/Med Decathlon Prostate/151/artifactFiles/imagesTs/prostate_30.nii.gz...\n",
      "Copying gs://marketplace-2xim6sjc/Med Decathlon Prostate/151/artifactFiles/imagesTs/prostate_45.nii.gz...\n",
      "Copying gs://marketplace-2xim6sjc/Med Decathlon Prostate/151/artifactFiles/imagesTs/prostate_27.nii.gz...\n",
      "Copying gs://marketplace-2xim6sjc/Med Decathlon Prostate/151/artifactFiles/imagesTs/prostate_33.nii.gz...\n",
      "Copying gs://marketplace-2xim6sjc/Med Decathlon Prostate/151/artifactFiles/imagesTs/prostate_36.nii.gz...\n",
      "\\ [16/16 files][ 78.8 MiB/ 78.8 MiB] 100% Done                                  \n",
      "Operation completed over 16 objects/78.8 MiB.                                    \n"
     ]
    }
   ],
   "source": [
    "!gsutil -m cp -r \"gs://marketplace-2xim6sjc/Med Decathlon Prostate/151/artifactFiles/imagesTs\" {data_root_dir}"
   ]
  },
  {
   "cell_type": "code",
   "execution_count": 4,
   "id": "ffbaf26b-4b36-4939-8239-02a9f397261f",
   "metadata": {
    "tags": []
   },
   "outputs": [],
   "source": [
    "import glob \n",
    "from pathlib import Path\n",
    "\n",
    "data_root_dir = Path(data_root_dir)\n",
    "img_paths = data_root_dir.rglob(\"*.nii.gz\")"
   ]
  },
  {
   "cell_type": "code",
   "execution_count": 5,
   "id": "09dc039b-611c-42df-a405-244e2cc683b3",
   "metadata": {
    "tags": []
   },
   "outputs": [],
   "source": [
    "img_paths = [str(p) for p in img_paths]"
   ]
  },
  {
   "cell_type": "code",
   "execution_count": 6,
   "id": "7004ca17-edc7-42dd-8d93-9280f39ecf1c",
   "metadata": {
    "tags": []
   },
   "outputs": [
    {
     "name": "stderr",
     "output_type": "stream",
     "text": [
      "/opt/conda/envs/pytorch/lib/python3.10/site-packages/torchvision/io/image.py:13: UserWarning: Failed to load image Python extension: libtorch_cuda_cu.so: cannot open shared object file: No such file or directory\n",
      "  warn(f\"Failed to load image Python extension: {e}\")\n"
     ]
    }
   ],
   "source": [
    "from torchvision.models import resnet18\n",
    "from torchvision import models, transforms\n",
    "from PIL import Image \n",
    "import nibabel as nib \n",
    "import numpy as np \n",
    "import torch \n",
    "\n",
    "def load_nifti_image(img_path):\n",
    "    # Load the NIfTI file\n",
    "    img = nib.load(img_path)\n",
    "    img_data = img.get_fdata()[..., 1]\n",
    "\n",
    "    # Normalize the image data to be between 0 and 1\n",
    "    img_data = (img_data - np.min(img_data)) / (np.max(img_data) - np.min(img_data))    \n",
    "    \n",
    "    return img_data\n",
    "\n",
    "def preprocess_image(img_arr):\n",
    "    preprocess = transforms.Compose([\n",
    "        transforms.Resize((224, 224)),\n",
    "        transforms.ToTensor(),\n",
    "        transforms.Normalize(mean=[0.485, 0.456, 0.406], std=[0.229, 0.224, 0.225]),\n",
    "    ])\n",
    "    img = Image.fromarray(img_arr).convert('RGB')\n",
    "    img_tensor = preprocess(img).unsqueeze(0)\n",
    "    return img_tensor\n",
    "\n",
    "def set_model():\n",
    "    model = models.resnet18(pretrained=True)\n",
    "    model.eval()\n",
    "\n",
    "    # Remove the last fully connected layer\n",
    "    modules = list(model.children())[:-1]\n",
    "    model = torch.nn.Sequential(*modules)\n",
    "\n",
    "    return model\n"
   ]
  },
  {
   "cell_type": "code",
   "execution_count": 11,
   "id": "9e030762-d460-4211-ab82-1bb585f14441",
   "metadata": {
    "tags": []
   },
   "outputs": [],
   "source": [
    "model = set_model()\n",
    "\n",
    "features = []\n",
    "\n",
    "for p in img_paths:\n",
    "    vol = load_nifti_image(p)\n",
    "    vol_features = []\n",
    "    for slice_idx in range(vol.shape[-1]):\n",
    "        img = vol[..., slice_idx]\n",
    "        img = preprocess_image(img)\n",
    "        vol_features.append(model(img).squeeze().detach().cpu().numpy())\n",
    "    features.append(np.mean(vol_features, axis=0)) # mean features of all slices\n",
    "\n",
    "features = np.array(features)"
   ]
  },
  {
   "cell_type": "code",
   "execution_count": 12,
   "id": "ef134b59-39df-4a9e-a9e7-b796fe5363ff",
   "metadata": {
    "tags": []
   },
   "outputs": [
    {
     "data": {
      "image/png": "[encoded data removed]",
      "text/plain": [
       "<Figure size 640x480 with 1 Axes>"
      ]
     },
     "metadata": {},
     "output_type": "display_data"
    }
   ],
   "source": [
    "from sklearn.manifold import TSNE\n",
    "import matplotlib.pyplot as plt \n",
    "\n",
    "# Perform t-SNE\n",
    "tsne = TSNE(n_components=2, random_state=0, perplexity=10)\n",
    "features_tsne = tsne.fit_transform(features)\n",
    "\n",
    "# Plot t-SNE\n",
    "plt.scatter(features_tsne[:, 0], features_tsne[:, 1])\n",
    "plt.title('t-SNE of Image Features')\n",
    "plt.xlabel('t-SNE 1')\n",
    "plt.ylabel('t-SNE 2')\n",
    "plt.show()"
   ]
  },
  {
   "cell_type": "code",
   "execution_count": null,
   "id": "ab674480-1f5f-4934-801c-15c5c64f1a68",
   "metadata": {},
   "outputs": [],
   "source": []
  }
 ],
 "metadata": {
  "environment": {
   "kernel": "conda-env-pytorch-pytorch",
   "name": "workbench-notebooks.m125",
   "type": "gcloud",
   "uri": "us-docker.pkg.dev/deeplearning-platform-release/gcr.io/workbench-notebooks:m125"
  },
  "kernelspec": {
   "display_name": "PyTorch 1-13 (Local)",
   "language": "python",
   "name": "conda-env-pytorch-pytorch"
  },
  "language_info": {
   "codemirror_mode": {
    "name": "ipython",
    "version": 3
   },
   "file_extension": ".py",
   "mimetype": "text/x-python",
   "name": "python",
   "nbconvert_exporter": "python",
   "pygments_lexer": "ipython3",
   "version": "3.10.15"
  }
 },
 "nbformat": 4,
 "nbformat_minor": 5
}
