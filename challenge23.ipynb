{
 "cells": [
  {
   "cell_type": "code",
   "execution_count": 1,
   "id": "8731ad4f-b8be-4b75-913a-0f2c57eded7d",
   "metadata": {
    "tags": []
   },
   "outputs": [],
   "source": [
    "from skimage import data\n",
    "from skimage.restoration import rolling_ball\n",
    "from skimage.io import imread, imsave"
   ]
  },
  {
   "cell_type": "code",
   "execution_count": 2,
   "id": "b2116fd2-8f30-4bb1-9ef2-e47e7e02cdf2",
   "metadata": {
    "tags": []
   },
   "outputs": [],
   "source": [
    "image = imread('sample_image.jpg')"
   ]
  },
  {
   "cell_type": "code",
   "execution_count": 3,
   "id": "662ad5a4-b6cb-4f7a-a5a5-0edc28e96c26",
   "metadata": {},
   "outputs": [],
   "source": [
    "# Estimate the background\n",
    "radius = 1  # Adjust the radius based on the size of background variations\n",
    "background = rolling_ball(image, radius=radius)"
   ]
  },
  {
   "cell_type": "code",
   "execution_count": 4,
   "id": "416819f1-add3-453e-a708-62e28955082c",
   "metadata": {},
   "outputs": [],
   "source": [
    "# Subtract the background to get a background-corrected image\n",
    "background_corrected = image - background\n",
    "# Save or display the results\n",
    "imsave('background.png', background)\n",
    "imsave('background_corrected.png', background_corrected)"
   ]
  },
  {
   "cell_type": "code",
   "execution_count": null,
   "id": "f0b304fb-c8d1-4f23-a923-b7c3ddd9c5ab",
   "metadata": {},
   "outputs": [],
   "source": []
  }
 ],
 "metadata": {
  "environment": {
   "kernel": "conda-base-py",
   "name": "workbench-notebooks.m125",
   "type": "gcloud",
   "uri": "us-docker.pkg.dev/deeplearning-platform-release/gcr.io/workbench-notebooks:m125"
  },
  "kernelspec": {
   "display_name": "Python 3 (ipykernel) (Local)",
   "language": "python",
   "name": "conda-base-py"
  },
  "language_info": {
   "codemirror_mode": {
    "name": "ipython",
    "version": 3
   },
   "file_extension": ".py",
   "mimetype": "text/x-python",
   "name": "python",
   "nbconvert_exporter": "python",
   "pygments_lexer": "ipython3",
   "version": "3.10.15"
  }
 },
 "nbformat": 4,
 "nbformat_minor": 5
}
