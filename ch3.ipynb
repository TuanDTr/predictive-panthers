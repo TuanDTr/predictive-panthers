{
 "cells": [
  {
   "cell_type": "code",
   "execution_count": 6,
   "id": "7aae9154-47cc-4a16-85dc-b8140130a3f8",
   "metadata": {
    "tags": []
   },
   "outputs": [],
   "source": [
    "import os"
   ]
  },
  {
   "cell_type": "code",
   "execution_count": 16,
   "id": "e472775c-f14a-45ee-a0ba-a0d11c61a258",
   "metadata": {
    "tags": []
   },
   "outputs": [
    {
     "name": "stdout",
     "output_type": "stream",
     "text": [
      "NpzFile 'chestmnist_64_local.npz' with keys: train_images, train_labels, val_images, val_labels, test_images...\n"
     ]
    }
   ],
   "source": [
    "from google.cloud import storage\n",
    "import pandas as pd\n",
    "import json\n",
    "print(data)\n",
    "import os"
   ]
  },
  {
   "cell_type": "code",
   "execution_count": 13,
   "id": "7578d233-9cef-48ec-bd06-f29c8c55937b",
   "metadata": {
    "tags": []
   },
   "outputs": [],
   "source": [
    "# Initialize a client\n",
    "client = storage.Client()\n",
    "\n",
    "# Define the bucket and blob (file) names\n",
    "bucket_name = 'marketplace-2xim6sjc'\n",
    "blob_name = 'Medical Decathlon Heart/146/artifactFiles/dataset.json'\n",
    "\n",
    "# Get the bucket and blob\n",
    "bucket = client.bucket(bucket_name)\n",
    "blob = bucket.blob(blob_name)\n",
    "\n"
   ]
  },
  {
   "cell_type": "code",
   "execution_count": 19,
   "id": "406137f3-85c1-402a-9ee2-bc4dcae24c0b",
   "metadata": {},
   "outputs": [],
   "source": [
    "# Download the content as a string\n",
    "content = blob.download_as_text()\n",
    "\n",
    "# Load the content into a dictionary\n",
    "data = json.loads(content)"
   ]
  },
  {
   "cell_type": "code",
   "execution_count": 21,
   "id": "9c7502ed-e1ee-47b5-830a-d401b226f617",
   "metadata": {
    "tags": []
   },
   "outputs": [
    {
     "name": "stdout",
     "output_type": "stream",
     "text": [
      "{\n",
      "    \"name\": \"LeftAtrium\",\n",
      "    \"description\": \"Left atrium segmentation\",\n",
      "    \"tensorImageSize\": \"3D\",\n",
      "    \"reference\": \"King\\u2019s College London\",\n",
      "    \"licence\": \"CC-BY-SA 4.0\",\n",
      "    \"relase\": \"1.0 04/05/2018\",\n",
      "    \"modality\": {\n",
      "        \"0\": \"MRI\"\n",
      "    },\n",
      "    \"labels\": {\n",
      "        \"0\": \"background\",\n",
      "        \"1\": \"left atrium\"\n",
      "    },\n",
      "    \"numTraining\": 20,\n",
      "    \"numTest\": 10,\n",
      "    \"training\": [\n",
      "        {\n",
      "            \"image\": \"./imagesTr/la_007.nii.gz\",\n",
      "            \"label\": \"./labelsTr/la_007.nii.gz\"\n",
      "        },\n",
      "        {\n",
      "            \"image\": \"./imagesTr/la_019.nii.gz\",\n",
      "            \"label\": \"./labelsTr/la_019.nii.gz\"\n",
      "        },\n",
      "        {\n",
      "            \"image\": \"./imagesTr/la_023.nii.gz\",\n",
      "            \"label\": \"./labelsTr/la_023.nii.gz\"\n",
      "        },\n",
      "        {\n",
      "            \"image\": \"./imagesTr/la_005.nii.gz\",\n",
      "            \"label\": \"./labelsTr/la_005.nii.gz\"\n",
      "        },\n",
      "        {\n",
      "            \"image\": \"./imagesTr/la_009.nii.gz\",\n",
      "            \"label\": \"./labelsTr/la_009.nii.gz\"\n",
      "        },\n",
      "        {\n",
      "            \"image\": \"./imagesTr/la_017.nii.gz\",\n",
      "            \"label\": \"./labelsTr/la_017.nii.gz\"\n",
      "        },\n",
      "        {\n",
      "            \"image\": \"./imagesTr/la_021.nii.gz\",\n",
      "            \"label\": \"./labelsTr/la_021.nii.gz\"\n",
      "        },\n",
      "        {\n",
      "            \"image\": \"./imagesTr/la_029.nii.gz\",\n",
      "            \"label\": \"./labelsTr/la_029.nii.gz\"\n",
      "        },\n",
      "        {\n",
      "            \"image\": \"./imagesTr/la_003.nii.gz\",\n",
      "            \"label\": \"./labelsTr/la_003.nii.gz\"\n",
      "        },\n",
      "        {\n",
      "            \"image\": \"./imagesTr/la_011.nii.gz\",\n",
      "            \"label\": \"./labelsTr/la_011.nii.gz\"\n",
      "        },\n",
      "        {\n",
      "            \"image\": \"./imagesTr/la_030.nii.gz\",\n",
      "            \"label\": \"./labelsTr/la_030.nii.gz\"\n",
      "        },\n",
      "        {\n",
      "            \"image\": \"./imagesTr/la_022.nii.gz\",\n",
      "            \"label\": \"./labelsTr/la_022.nii.gz\"\n",
      "        },\n",
      "        {\n",
      "            \"image\": \"./imagesTr/la_014.nii.gz\",\n",
      "            \"label\": \"./labelsTr/la_014.nii.gz\"\n",
      "        },\n",
      "        {\n",
      "            \"image\": \"./imagesTr/la_018.nii.gz\",\n",
      "            \"label\": \"./labelsTr/la_018.nii.gz\"\n",
      "        },\n",
      "        {\n",
      "            \"image\": \"./imagesTr/la_020.nii.gz\",\n",
      "            \"label\": \"./labelsTr/la_020.nii.gz\"\n",
      "        },\n",
      "        {\n",
      "            \"image\": \"./imagesTr/la_004.nii.gz\",\n",
      "            \"label\": \"./labelsTr/la_004.nii.gz\"\n",
      "        },\n",
      "        {\n",
      "            \"image\": \"./imagesTr/la_016.nii.gz\",\n",
      "            \"label\": \"./labelsTr/la_016.nii.gz\"\n",
      "        },\n",
      "        {\n",
      "            \"image\": \"./imagesTr/la_024.nii.gz\",\n",
      "            \"label\": \"./labelsTr/la_024.nii.gz\"\n",
      "        },\n",
      "        {\n",
      "            \"image\": \"./imagesTr/la_010.nii.gz\",\n",
      "            \"label\": \"./labelsTr/la_010.nii.gz\"\n",
      "        },\n",
      "        {\n",
      "            \"image\": \"./imagesTr/la_026.nii.gz\",\n",
      "            \"label\": \"./labelsTr/la_026.nii.gz\"\n",
      "        }\n",
      "    ],\n",
      "    \"test\": [\n",
      "        \"./imagesTs/la_015.nii.gz\",\n",
      "        \"./imagesTs/la_025.nii.gz\",\n",
      "        \"./imagesTs/la_013.nii.gz\",\n",
      "        \"./imagesTs/la_001.nii.gz\",\n",
      "        \"./imagesTs/la_027.nii.gz\",\n",
      "        \"./imagesTs/la_006.nii.gz\",\n",
      "        \"./imagesTs/la_008.nii.gz\",\n",
      "        \"./imagesTs/la_012.nii.gz\",\n",
      "        \"./imagesTs/la_028.nii.gz\",\n",
      "        \"./imagesTs/la_002.nii.gz\"\n",
      "    ]\n",
      "}\n"
     ]
    }
   ],
   "source": [
    "# Print the entire JSON data\n",
    "print(json.dumps(data, indent=4))"
   ]
  },
  {
   "cell_type": "code",
   "execution_count": null,
   "id": "ed541fa7-b36d-449e-a126-00bbb242832e",
   "metadata": {},
   "outputs": [],
   "source": []
  }
 ],
 "metadata": {
  "environment": {
   "kernel": "conda-base-py",
   "name": "workbench-notebooks.m125",
   "type": "gcloud",
   "uri": "us-docker.pkg.dev/deeplearning-platform-release/gcr.io/workbench-notebooks:m125"
  },
  "kernelspec": {
   "display_name": "Python 3 (ipykernel) (Local)",
   "language": "python",
   "name": "conda-base-py"
  },
  "language_info": {
   "codemirror_mode": {
    "name": "ipython",
    "version": 3
   },
   "file_extension": ".py",
   "mimetype": "text/x-python",
   "name": "python",
   "nbconvert_exporter": "python",
   "pygments_lexer": "ipython3",
   "version": "3.10.15"
  }
 },
 "nbformat": 4,
 "nbformat_minor": 5
}
