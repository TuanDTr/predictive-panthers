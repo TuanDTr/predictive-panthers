{
 "cells": [
  {
   "cell_type": "code",
   "execution_count": null,
   "id": "e472775c-f14a-45ee-a0ba-a0d11c61a258",
   "metadata": {
    "tags": []
   },
   "outputs": [],
   "source": [
    "import os\n",
    "import numpy as np\n",
    "import matplotlib.pyplot as plt\n",
    "import nibabel as nib\n",
    "import os\n",
    "from google.cloud import storage\n",
    "from io import BytesIO\n",
    "from sklearn.decomposition import PCA\n",
    "from skimage.transform import resize"
   ]
  },
  {
   "cell_type": "code",
   "execution_count": null,
   "id": "e13350ea-91d2-4e61-8528-36561a0b6ee5",
   "metadata": {
    "tags": []
   },
   "outputs": [],
   "source": [
    "# Function to download all files from a GCS bucket folder to a local directory\n",
    "def download_folder_from_gcs(bucket_name, prefix, local_dir):\n",
    "    client = storage.Client()\n",
    "    bucket = client.bucket(bucket_name)\n",
    "    blobs = bucket.list_blobs(prefix=prefix)\n",
    "\n",
    "    if not os.path.exists(local_dir):\n",
    "        os.makedirs(local_dir)\n",
    "\n",
    "    for blob in blobs:\n",
    "        # Create the local file path\n",
    "        local_file_path = os.path.join(local_dir, os.path.basename(blob.name))\n",
    "        # Download the blob to the local file\n",
    "        blob.download_to_filename(local_file_path)\n",
    "\n",
    "# Function to load NIfTI images from a local directory and extract embedding vectors\n",
    "def load_images_from_local_dir(local_dir, target_shape=(64, 64, 64)):  # Specify target shape\n",
    "    embeddings = []\n",
    "    for filename in os.listdir(local_dir):\n",
    "        if filename.endswith('.nii.gz'):\n",
    "            file_path = os.path.join(local_dir, filename)\n",
    "            img = nib.load(file_path)\n",
    "            img_data = img.get_fdata()\n",
    "\n",
    "            # Resize the image to the target shape\n",
    "            img_data_resized = resize(img_data, target_shape, mode='reflect')\n",
    "\n",
    "            # Flatten the resized image data\n",
    "            embedding_vector = img_data_resized.flatten()\n",
    "            embeddings.append(embedding_vector)\n",
    "    \n",
    "    return np.array(embeddings)\n",
    "\n",
    "# Specify your GCS bucket name and prefix (folder path)\n",
    "bucket_name = 'marketplace-2xim6sjc'  # Your bucket name\n",
    "prefix = 'Medical Decathlon Heart/146/artifactFiles/imagesTs/'  # Your folder path inside the bucket\n",
    "local_dir = 'downloaded_images'  # Local directory to save the downloaded images\n"
   ]
  },
  {
   "cell_type": "code",
   "execution_count": null,
   "id": "fd7beaff-f12d-4110-8018-efd6408b684d",
   "metadata": {
    "tags": []
   },
   "outputs": [],
   "source": [
    "# Download the folder from GCS\n",
    "download_folder_from_gcs(bucket_name, prefix, local_dir)"
   ]
  },
  {
   "cell_type": "code",
   "execution_count": null,
   "id": "6f783944-6e26-4ae6-afd8-2a727dac66cb",
   "metadata": {
    "tags": []
   },
   "outputs": [],
   "source": [
    "\n",
    "# Load images and get embeddings from the local directory\n",
    "embeddings = load_images_from_local_dir(local_dir)\n",
    "\n",
    "# Check if embeddings are loaded\n",
    "if embeddings.size == 0:\n",
    "    print(\"No embeddings found. Please check your bucket and prefix.\")\n",
    "else:\n",
    "    # Apply PCA\n",
    "    pca = PCA(n_components=2)\n",
    "    pca_result = pca.fit_transform(embeddings)\n",
    "\n",
    "    # Visualize the results\n",
    "    plt.figure(figsize=(8, 6))\n",
    "    plt.scatter(pca_result[:, 0], pca_result[:, 1], alpha=0.7)\n",
    "    plt.title('PCA of Image Embeddings')\n",
    "    plt.xlabel('Principal Component 1')\n",
    "    plt.ylabel('Principal Component 2')\n",
    "    plt.grid()\n",
    "    plt.show()"
   ]
  }
 ],
 "metadata": {
  "environment": {
   "kernel": "conda-base-py",
   "name": "workbench-notebooks.m125",
   "type": "gcloud",
   "uri": "us-docker.pkg.dev/deeplearning-platform-release/gcr.io/workbench-notebooks:m125"
  },
  "kernelspec": {
   "display_name": "Python 3 (ipykernel) (Local)",
   "language": "python",
   "name": "conda-base-py"
  },
  "language_info": {
   "codemirror_mode": {
    "name": "ipython",
    "version": 3
   },
   "file_extension": ".py",
   "mimetype": "text/x-python",
   "name": "python",
   "nbconvert_exporter": "python",
   "pygments_lexer": "ipython3",
   "version": "3.10.15"
  }
 },
 "nbformat": 4,
 "nbformat_minor": 5
}
