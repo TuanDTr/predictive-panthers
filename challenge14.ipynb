{
 "cells": [
  {
   "cell_type": "code",
   "execution_count": null,
   "id": "65d7f15c-762b-4f75-b61f-5a8e73d75434",
   "metadata": {
    "tags": []
   },
   "outputs": [],
   "source": [
    "import vtk\n",
    "import gcsfs\n",
    "import os\n",
    "import tempfile\n",
    "\n",
    "# Cloud Storage details\n",
    "bucket_name = \"marketplace-2xim6sjc\" \n",
    "file_path_in_gcs = \"TotalSegmentator v2/99/artifactFiles/s0000/segmentations/femur_left.nii.gz\"\n",
    "project_id = 'pbeat03002010-prod-d8b6-pp-def'\n",
    "\n",
    "# Access Cloud Storage\n",
    "fs = gcsfs.GCSFileSystem(project=project_id)\n",
    "\n",
    "# Create a temporary directory\n",
    "temp_dir = tempfile.mkdtemp()\n",
    "local_file_path = os.path.join(temp_dir, 'temp_segmentation.nii.gz')\n",
    "\n",
    "# Download the file to the temporary location\n",
    "fs.get(f'gs://{bucket_name}/{file_path_in_gcs}', local_file_path)\n",
    "\n",
    "# Now use the local file path with VTK\n",
    "dataImporter = vtk.vtkNIFTIImageReader()\n",
    "dataImporter.SetFileName(local_file_path) \n",
    "dataImporter.Update()\n",
    "\n",
    "# Extract the femur segmentation\n",
    "imageData = dataImporter.GetOutput()\n",
    "\n",
    "# Create a contour filter to extract the surface of the segmented femur\n",
    "contourFilter = vtk.vtkContourFilter()\n",
    "contourFilter.SetInputData(imageData)\n",
    "contourFilter.SetValue(0, 1)  # Assuming the femur segmentation is labeled as 1\n",
    "contourFilter.Update()\n",
    "\n",
    "# Create a mapper and actor\n",
    "mapper = vtk.vtkPolyDataMapper()\n",
    "mapper.SetInputConnection(contourFilter.GetOutputPort())\n",
    "actor = vtk.vtkActor()\n",
    "actor.SetMapper(mapper)\n",
    "\n",
    "# Create a renderer, render window, and interactor\n",
    "renderer = vtk.vtkRenderer()\n",
    "renderWindow = vtk.vtkRenderWindow()\n",
    "renderWindow.AddRenderer(renderer)\n",
    "renderWindowInteractor = vtk.vtkRenderWindowInteractor()\n",
    "renderWindowInteractor.SetRenderWindow(renderWindow)\n",
    "\n",
    "# Add the actor to the scene\n",
    "renderer.AddActor(actor)\n",
    "renderer.SetBackground(0.2, 0.3, 0.4)  # Set background color\n",
    "\n",
    "# Initialize the interactor and start the rendering loop\n",
    "renderWindowInteractor.Initialize()\n",
    "renderWindow.Render()\n",
    "renderWindowInteractor.Start()\n",
    "\n",
    "# Clean up the temporary file (optional but recommended)\n",
    "os.remove(local_file_path)\n",
    "os.rmdir(temp_dir)"
   ]
  },
  {
   "cell_type": "code",
   "execution_count": null,
   "id": "a0e9d923-e622-424c-a475-2184c68c2739",
   "metadata": {},
   "outputs": [],
   "source": []
  },
  {
   "cell_type": "code",
   "execution_count": null,
   "id": "8eee78e9-8ed7-4560-92a9-aee129ecdcf3",
   "metadata": {},
   "outputs": [],
   "source": []
  },
  {
   "cell_type": "code",
   "execution_count": null,
   "id": "18919300-5e9b-4d2f-9a8c-ed4bbe256f91",
   "metadata": {},
   "outputs": [],
   "source": []
  }
 ],
 "metadata": {
  "environment": {
   "kernel": "conda-env-tensorflow-tensorflow",
   "name": "workbench-notebooks.m125",
   "type": "gcloud",
   "uri": "us-docker.pkg.dev/deeplearning-platform-release/gcr.io/workbench-notebooks:m125"
  },
  "kernelspec": {
   "display_name": "TensorFlow 2-11 (Local)",
   "language": "python",
   "name": "conda-env-tensorflow-tensorflow"
  },
  "language_info": {
   "codemirror_mode": {
    "name": "ipython",
    "version": 3
   },
   "file_extension": ".py",
   "mimetype": "text/x-python",
   "name": "python",
   "nbconvert_exporter": "python",
   "pygments_lexer": "ipython3",
   "version": "3.10.15"
  }
 },
 "nbformat": 4,
 "nbformat_minor": 5
}
